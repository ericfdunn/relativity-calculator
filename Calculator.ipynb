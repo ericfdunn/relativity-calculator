{
 "cells": [
  {
   "cell_type": "markdown",
   "id": "53c19765",
   "metadata": {},
   "source": [
    "# Relativity Calculator\n",
    "\n",
    "Relativity-calculator is a project to do some basic Lorentz factor calculations in universes with different fundamental constants. The [Lorentz factor](https://en.wikipedia.org/wiki/Lorentz_factor) describes the contraction in space or stretching in time for an object undergoing relativistic effects. We will arrive at an approximate equation for the Lorentz factor, then use numpy for calculations, and finally matplotlib and ipywidgets to create an interactive plot. \n",
    "\n",
    "*If you want to skip to the plot, scroll to the bottom.*"
   ]
  },
  {
   "cell_type": "code",
   "execution_count": 27,
   "id": "5c95e215",
   "metadata": {},
   "outputs": [],
   "source": [
    "import numpy as np\n",
    "import matplotlib.pyplot as plt\n",
    "from ipywidgets import interactive\n",
    "import ipywidgets as widgets\n",
    "import concurrent.futures"
   ]
  },
  {
   "cell_type": "markdown",
   "id": "cd787bd4",
   "metadata": {},
   "source": [
    "## Time Dilation\n",
    "\n",
    "Relativisitic [time dilation](https://en.wikipedia.org/wiki/Time_dilation) occurs due to a number of effects that curve space-time: velocity, gravity, and, indirectly, the [cosmological constant](https://en.wikipedia.org/wiki/Cosmological_constant). The velocity portion iss easy to find, we will use the common Lorentz factor, but for the rest we will we need a solution to the Einstein Equations that includes gravity and the cosmological consant. \n",
    "\n",
    "### The Lorentz Factor\n",
    "\n",
    "The [Lorentz factor](https://en.wikipedia.org/wiki/Lorentz_transformation) ($\\gamma$) was initially formulated for a moving reference frame:  \n",
    "\n",
    "$$ \\gamma = \\sqrt{1 - \\frac{v^2}{c^2}} = \\frac{dt}{d\\tau} $$\n",
    "\n",
    "Where:\n",
    "- $v$ is the relative velocity between the observer and the moving frame.\n",
    "- $c$ is the speed of light in a vacuum.\n",
    "- $dt$ is the coordinate time (the observer)\n",
    "- $d\\tau$ is the proper time (the moving refernce frame)\n",
    "\n",
    "So, to arrive at the time dilation from the perspective of the mover, we take the reciprical:\n",
    "\n",
    " $$ \\frac{d\\tau}{dt}  = \\frac {1} {\\sqrt{1 - \\frac{v^2}{c^2}}} $$\n",
    "\n",
    "\n",
    "### The Schwarzschild-de Sitter Metric\n",
    "\n",
    "The [Schwarzschild-de Sitter metric](https://en.wikipedia.org/wiki/De_Sitter%E2%80%93Schwarzschild_metric) is a solution to Einstein's field equations that describes a non-rotating, spherically symmetric mass (like a planet or star) in a universe with a positive cosmological constant (Λ). \n",
    "\n",
    "The metric in this case is given by:\n",
    "\n",
    "$$\n",
    "ds^2 = -\\left(1 - \\frac{2GM}{rc^2} - \\frac{\\Lambda r^2}{3}\\right)dt^2 + \\frac{1}{\\left(1 - \\frac{2GM}{rc^2} - \\frac{\\Lambda r^2}{3}\\right)} dr^2 + r^2 d\\Omega^2\n",
    "$$\n",
    "\n",
    "where:\n",
    "- ds is the infinitesimal spacetime interval,\n",
    "- G is the gravitational constant,\n",
    "- M is the mass of the object,\n",
    "- r is the radial coordinate (distance from the center of the mass),\n",
    "- c is the speed of light,\n",
    "- t is the time coordinate,\n",
    "- Λ is the cosmological constant, and\n",
    "- dΩ² is the solid angle element (dθ² + sin²θdφ² in spherical coordinates).\n",
    "\n",
    "The term (1 - 2GM/rc² - Λr²/3)dt² is the one that shows how time is affected by both gravity and the cosmological constant. \n",
    "\n",
    "If we consider a stationary observer (dr = dΩ = 0), the spacetime interval reduces to:\n",
    "\n",
    "$$ds^2 = -\\left(1 - \\frac{2GM}{rc^2} - \\frac{\\Lambda r^2}{3}\\right) dt^2$$\n",
    "\n",
    "The proper time (dτ), which is the time experienced by a clock at rest in the gravitational field, is given by ds/c. So we have:\n",
    "\n",
    "$$d\\tau^2 = -\\left(1 - \\frac{2GM}{rc^2} - \\frac{\\Lambda r^2}{3}\\right) dt^2$$\n",
    "\n",
    "Taking the square root of both sides and rearranging gives the time dilation formula in a Schwarzschild-de Sitter spacetime:\n",
    "\n",
    "$$\\frac{d\\tau}{dt} = \\sqrt{1 - \\frac{2GM}{rc^2} - \\frac{\\Lambda r^2}{3}}$$\n",
    "\n",
    "This is the generalization of the gravitational time dilation formula to include the effects of a cosmological constant. It shows that a clock closer to a massive object (smaller r) or in a region of higher cosmological constant will run slower compared to a clock farther away or in a region of lower cosmological constant.\n",
    "\n",
    "Since we will be considering the affect of c, we will not assume Λ is given in units of c. Substitute  Λ/c² for Λ:\n",
    "\n",
    "$$\\frac{d\\tau}{dt} = \\sqrt{1 - \\frac{2GM}{rc^2} - \\frac{\\Lambda r^2}{3c^2}}$$\n",
    "\n",
    "### Time Dilation Relative to Earth\n",
    "\n",
    "I want to show the passive time relative to our normal reference frame (i.e. the surface of Earth, denoted with e subscript). We use a ratio of the above formula to get:\n",
    "\n",
    "$$\\frac{d\\tau}{d\\tau_e} = \\frac{\\sqrt{1 - \\frac{2G_eM_e}{r_ec_e^2} - \\frac{\\Lambda_e r_e^2}{3c_e^2}}}{\\sqrt{1 - \\frac{2GM}{rc^2} - \\frac{\\Lambda r^2}{3c^2}}}$$\n",
    "\n",
    "Since the cosmological constant is very small in our universe, we set it to 0 for the reference frame:\n",
    "\n",
    "$$\\frac{d\\tau}{d\\tau_e} = \\frac{\\sqrt{1 - \\frac{2G_eM_e}{r_ec_e^2}}}{\\sqrt{1 - \\frac{2GM}{rc^2} - \\frac{\\Lambda r^2}{3c^2}}}$$\n",
    "\n",
    "So that we can work entirely in parameters relative to Earth (subscript r), we substitute as below:\n",
    "\n",
    "$$\\frac{d\\tau}{d\\tau_e} = \\frac{\\sqrt{1 - \\frac{2G_eM_e}{r_ec_e^2}}}{\\sqrt{1 - \\frac{2GM}{rc^2}(\\frac{2G_eM_e}{r_ec_e^2}) - \\frac{\\Lambda r^2}{3c^2}}}$$\n",
    "\n",
    "Finally, since the Earth parameters are constant, we can pre-calculate them and call that result K:\n",
    "\n",
    "$$\\frac{d\\tau}{d\\tau_e} = \\frac{\\sqrt{1 - K}}{\\sqrt{1 - \\frac{2GM}{rc^2}K - \\frac{\\Lambda r^2}{3c^2}}}$$\n",
    "\n",
    "We can use this formula to show the relative passage of time on our hypothetical reference frame in comparison to Earth in our universe.\n",
    "\n",
    "### Combined Equation\n",
    "Lastly, we will multiply the equations for velocity and gravtiy together to arrive at a combined equation:\n",
    "\n",
    "$$\\frac{d\\tau}{d\\tau_e} = \\frac{\\sqrt{1 - K}}{\\sqrt{1 - \\frac{v^2}{c^2}}\\sqrt{1 - \\frac{2GM}{rc^2}K - \\frac{\\Lambda r^2}{3c^2}}}$$\n",
    "\n",
    "Note there are a number of simplifications going into this formulation. For example, a point mass is assumed, there's no rotation, and it's not technically correct to just multiply them together since there is interaction between gravity and velocity. However, for the purposes of illustrating relativistic effects, we will see the correct trends and get reasonably accurate results for parameters near the Earth constants."
   ]
  },
  {
   "cell_type": "code",
   "execution_count": 28,
   "id": "4c949c81",
   "metadata": {},
   "outputs": [
    {
     "name": "stdout",
     "output_type": "stream",
     "text": [
      "K = 1.3902275240237882e-09\n"
     ]
    }
   ],
   "source": [
    "# Calculating the Earth Constant\n",
    "\n",
    "Ge = 6.674E-11\n",
    "Me = 5.972E24\n",
    "re = 6.371E6\n",
    "ce = 3.00E8\n",
    "Le = 0\n",
    "\n",
    "K = 2*Ge*Me/(re*(ce)**2)\n",
    "print(f'K = {K}')"
   ]
  },
  {
   "cell_type": "markdown",
   "id": "431f4685",
   "metadata": {},
   "source": [
    "Before defining the calculator functions, we need to decide on some upper and lower boundaries for the numerical approximation. These well help the chart look better by having something to show instead of #infinity or #undefined:"
   ]
  },
  {
   "cell_type": "code",
   "execution_count": 29,
   "id": "75bd483d",
   "metadata": {},
   "outputs": [],
   "source": [
    "# small value to use instead of dividing by zero\n",
    "epsilon = 1e-10\n",
    "# large value to use instead of infinity\n",
    "lmax = 1e6"
   ]
  },
  {
   "cell_type": "code",
   "execution_count": 30,
   "id": "15f6aeec",
   "metadata": {},
   "outputs": [],
   "source": [
    "def time_dilation(G,M,r,c,L): #parameters relative to earth\n",
    "    np.seterr(divide='ignore', invalid='ignore') \n",
    "    c= np.where(c==0, epsilon, c)\n",
    "    r= np.where(r==0, epsilon, r)\n",
    "    denominator = 1- K*G*M/(r*c**2) + L*r**2/(3*c**2)\n",
    "    denominator = np.where(denominator==0,epsilon, denominator)\n",
    "    result = np.sqrt(1-K)/np.sqrt(denominator )\n",
    "    return np.where(np.isnan(result),lmax,result)"
   ]
  },
  {
   "cell_type": "markdown",
   "id": "142be886",
   "metadata": {},
   "source": [
    "### G-Force\n",
    "\n",
    "We can define an effective gravitational force that would be felt by an observer in our hypothetical universe, and when it is expressed relative to the parameters of Earth, it is the [g-Force](https://en.wikipedia.org/wiki/G-force). We once again start with the Schwarzschild-de Sitter metric, and considering a test particle at rest (i.e., \\(dr/dt = 0\\)), the effective gravitational acceleration can be found by differentiating the metric with respect to r and setting the result equal to zero. This yields\n",
    "\n",
    "$$ g = -c^2 \\frac{d}{dr}\\left(1 - \\frac{2GM}{rc^2} - \\frac{\\Lambda r^2}{3}\\right) $$\n",
    "\n",
    "or, after some algebra,\n",
    "\n",
    "$$ g = \\frac{GM}{r^2} - \\frac{1}{3}\\Lambda c^2 r $$\n",
    "\n",
    "Here, (G) is the gravitational constant, (M) is the mass of the object, (r) is the radial coordinate (distance from the center of the mass), (c) is the speed of light, and (Λ) is the cosmological constant.\n",
    "\n",
    "This equation shows that the effective gravitational acceleration has two components: the familiar inverse square law term due to the mass of the object, and a term proportional to Λr due to the cosmological constant. Note that the Λ term becomes more significant at large distances, where it can lead to an effective \"anti-gravity\" effect (i.e., acceleration away from the mass). This is the phenomenon underlying the observed accelerated expansion of the universe."
   ]
  },
  {
   "cell_type": "code",
   "execution_count": 31,
   "id": "4705931b",
   "metadata": {},
   "outputs": [],
   "source": [
    "def g_force(G,M,r,c,L): #the gravitational force at the given parameters, relative to earth\n",
    "    np.seterr(divide='ignore', invalid='ignore') \n",
    "    r= np.where(r==0, epsilon, r)\n",
    "    return G*M/r**2 - L*r*c**2/3"
   ]
  },
  {
   "cell_type": "markdown",
   "id": "58e2d644",
   "metadata": {},
   "source": [
    "# Basis for the Chart (the x-axis)\n",
    "\n",
    "Since the construction of our chart puts the current value alway in the middle of the chart, we can drastically speed up our computation by choosing a basis that is sparser further from zero. This way we can keep a good resolution around the current solution high. A histogram of the basis is also shown below."
   ]
  },
  {
   "cell_type": "code",
   "execution_count": 32,
   "id": "1d572117",
   "metadata": {},
   "outputs": [
    {
     "data": {
      "text/plain": [
       "(array([ 3.,  2.,  3.,  3.,  3.,  5.,  5.,  7., 11., 24., 68., 24., 11.,\n",
       "         7.,  5.,  5.,  3.,  3.,  3.,  2.,  3.]),\n",
       " array([-100.        ,  -90.47619048,  -80.95238095,  -71.42857143,\n",
       "         -61.9047619 ,  -52.38095238,  -42.85714286,  -33.33333333,\n",
       "         -23.80952381,  -14.28571429,   -4.76190476,    4.76190476,\n",
       "          14.28571429,   23.80952381,   33.33333333,   42.85714286,\n",
       "          52.38095238,   61.9047619 ,   71.42857143,   80.95238095,\n",
       "          90.47619048,  100.        ]),\n",
       " <BarContainer object of 21 artists>)"
      ]
     },
     "execution_count": 32,
     "metadata": {},
     "output_type": "execute_result"
    },
    {
     "data": {
      "image/png": "[encoded data removed]",
      "text/plain": [
       "<Figure size 640x480 with 1 Axes>"
      ]
     },
     "metadata": {},
     "output_type": "display_data"
    }
   ],
   "source": [
    "# chart basis (the x axis)\n",
    "max_exp = 2\n",
    "numberofpoints = 200\n",
    "basis = np.concatenate([-np.flip(np.logspace(0,max_exp,numberofpoints//2)),np.logspace(0,max_exp,numberofpoints//2)])\n",
    "plt.hist(basis, bins=21, alpha=0.5, color='g', edgecolor='black')"
   ]
  },
  {
   "cell_type": "code",
   "execution_count": 33,
   "id": "174304ce",
   "metadata": {},
   "outputs": [],
   "source": [
    "#define colors for plot\n",
    "series_colors  = {'G': 'green', 'M': 'red', 'r': 'blue', 'c': 'orange', 'L': 'purple'}"
   ]
  },
  {
   "cell_type": "code",
   "execution_count": 34,
   "id": "a37982f6",
   "metadata": {},
   "outputs": [],
   "source": [
    "# Define function to be executed in parallel\n",
    "def process_param(param,p_dict):\n",
    "    new_p = p_dict.copy()\n",
    "    new_p[param] = p_dict[param] * basis\n",
    "    return param, time_dilation(**new_p)\n",
    "\n",
    "\n",
    "# using exponential scales\n",
    "def p_plot(G,M,r,c,L,zoom):\n",
    "    # Clear the current figure\n",
    "    plt.clf()\n",
    "\n",
    "    # create a dictionary for the parameters\n",
    "    p_dict = {'G': G, 'M': M, 'r': r, 'c':c, 'L': L}\n",
    " #   p_dict_exp = {'G': 10**G, 'M': 10**M, 'r': 10**r, 'c':10**c, 'L':10**L}\n",
    "    \n",
    "    \n",
    "    current_value= time_dilation(**p_dict)\n",
    "    g = g_force(**p_dict)\n",
    "  #  print(p_dict)\n",
    "    print(f\"Lorentz factor: {current_value}, g-force: {g}\")\n",
    "\n",
    "    # empty dictionary for results\n",
    "    \n",
    "    gammas = {}\n",
    "    \n",
    "    with concurrent.futures.ProcessPoolExecutor() as executor:\n",
    "        # Submit the tasks to the executor\n",
    "        futures = {executor.submit(process_param, param, p_dict): param for param in p_dict}\n",
    "\n",
    "        # Collect the results as they become available\n",
    "        for future in concurrent.futures.as_completed(futures):\n",
    "            param = futures[future]\n",
    "            try:\n",
    "                result_param, result_value = future.result()\n",
    "                gammas[result_param] = result_value\n",
    "                plt.plot(basis, result_value, label=result_param, color=series_colors[result_param])\n",
    "            except Exception as exc:\n",
    "                print('%r generated an exception: %s' % (param, exc))\n",
    "            \n",
    "    # Plot current value\n",
    "    plt.plot(0, current_value , 'ro')\n",
    "    plt.annotate(np.round(current_value, 10), \n",
    "             (0,current_value),\n",
    "             textcoords=\"offset points\",  # how to position the text\n",
    "             xytext=(-10,10),  # distance from text to points (x,y)\n",
    "             ha='center',  # horizontal alignment can be left, right or center \n",
    "                )\n",
    "\n",
    "    plt.xlabel('Parameter')\n",
    "    plt.ylabel('Lorentz factor (gamma)')\n",
    "    plt.legend()\n",
    "    plt.ylim(0,10**zoom)\n",
    "    plt.grid(True)\n",
    "    plt.show()"
   ]
  },
  {
   "cell_type": "code",
   "execution_count": 35,
   "id": "117511eb",
   "metadata": {},
   "outputs": [
    {
     "data": {
      "application/vnd.jupyter.widget-view+json": {
       "model_id": "afa670d0208a405cb6002418726db0e1",
       "version_major": 2,
       "version_minor": 0
      },
      "text/plain": [
       "interactive(children=(FloatLogSlider(value=1.0, description='G', max=10.0, min=-10.0, step=0.01), FloatLogSlid…"
      ]
     },
     "execution_count": 35,
     "metadata": {},
     "output_type": "execute_result"
    }
   ],
   "source": [
    "# Create interactive plot using exponential parameters\n",
    "interactive_plot = interactive(p_plot, \n",
    "    G= widgets.FloatLogSlider(value=1, base=10, min=-10, max=10, step=.01),\n",
    "    M= widgets.FloatLogSlider(value=1, base=10, min=-5, max=5, step=.01),\n",
    "    r= widgets.FloatLogSlider(value=1, base=10, min=-2, max=2, step=.01),\n",
    "    c= widgets.FloatLogSlider(value=1, base=10, min=-6, max=6, step=.01),                                \n",
    "    L= widgets.FloatLogSlider(value=0, base=10, min=-20, max=20, step=0.1),\n",
    "    zoom = widgets.IntSlider(value=1, min=1, max=5, step=1, description='y scale'))\n",
    "output = interactive_plot.children[-1]\n",
    "output.layout.height = '800px'\n",
    "interactive_plot"
   ]
  },
  {
   "cell_type": "markdown",
   "id": "8564fd86",
   "metadata": {},
   "source": [
    "## The Schwartzschield Radius and other Singularities"
   ]
  },
  {
   "cell_type": "code",
   "execution_count": null,
   "id": "e4924832",
   "metadata": {},
   "outputs": [],
   "source": []
  }
 ],
 "metadata": {
  "kernelspec": {
   "display_name": "Python 3 (ipykernel)",
   "language": "python",
   "name": "python3"
  },
  "language_info": {
   "codemirror_mode": {
    "name": "ipython",
    "version": 3
   },
   "file_extension": ".py",
   "mimetype": "text/x-python",
   "name": "python",
   "nbconvert_exporter": "python",
   "pygments_lexer": "ipython3",
   "version": "3.9.15"
  }
 },
 "nbformat": 4,
 "nbformat_minor": 5
}
