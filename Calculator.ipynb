{
 "cells": [
  {
   "cell_type": "code",
   "execution_count": 170,
   "id": "5c95e215",
   "metadata": {},
   "outputs": [],
   "source": [
    "import numpy as np\n",
    "import matplotlib.pyplot as plt\n",
    "from ipywidgets import interactive\n",
    "import concurrent.futures"
   ]
  },
  {
   "cell_type": "code",
   "execution_count": 171,
   "id": "4c949c81",
   "metadata": {},
   "outputs": [
    {
     "data": {
      "text/plain": [
       "(1.3902275240237882e-09, -8.856914117485623)"
      ]
     },
     "execution_count": 171,
     "metadata": {},
     "output_type": "execute_result"
    }
   ],
   "source": [
    "#earth constant GM/rc2\n",
    "K = 2*6.674E-11*5.972E24/(6.371E6*(3.00E8)**2)\n",
    "k = np.log10(K)\n",
    "K,k"
   ]
  },
  {
   "cell_type": "code",
   "execution_count": 172,
   "id": "75bd483d",
   "metadata": {},
   "outputs": [],
   "source": [
    "# small value to use instead of dividing by zero\n",
    "epsilon = 1e-10"
   ]
  },
  {
   "cell_type": "code",
   "execution_count": 173,
   "id": "eda630f5",
   "metadata": {},
   "outputs": [],
   "source": [
    " #chart basis\n",
    "basis = np.linspace(-0.999, 0.999, 100)"
   ]
  },
  {
   "cell_type": "code",
   "execution_count": 174,
   "id": "04bfdbfe",
   "metadata": {},
   "outputs": [],
   "source": [
    "def gravity_dilation_eq(g,r,c,L): #relative to earth. Parameters are exponentials\n",
    "    np.seterr(divide='ignore', invalid='ignore') \n",
    "    c= np.where(c==0, epsilon, c)\n",
    "    return np.sqrt(1- K) / (epsilon + np.sqrt(1-K*g*r/c**2 + L*r/(3*c**2)) )\n",
    "    \n"
   ]
  },
  {
   "cell_type": "code",
   "execution_count": 175,
   "id": "a37982f6",
   "metadata": {},
   "outputs": [],
   "source": [
    "# Define function to be executed in parallel\n",
    "def process_param(param,p_dict):\n",
    "    new_p = p_dict.copy()\n",
    "    new_p[param] = 10**(p_dict[param]+basis)\n",
    "    return param, gravity_dilation_eq(**new_p)\n",
    "\n",
    "\n",
    "# using exponential scales\n",
    "def p_plot(g,r,c,L,zoom):\n",
    "    # Clear the current figure\n",
    "    plt.clf()\n",
    "\n",
    "    # create a dictionary for the parameters\n",
    "    p_dict = {'g': g, 'r': r, 'c':c, 'L': L}\n",
    "    p_dict_exp = {'g': 10**g, 'r': 10**r, 'c':10**c, 'L':10**L}\n",
    "    \n",
    "    \n",
    "    current_value= gravity_dilation_eq(**p_dict_exp)\n",
    "    print(p_dict_exp,current_value)\n",
    "\n",
    "    # empty dictionary for results\n",
    "    \n",
    "    gammas = {}\n",
    "    \n",
    "    with concurrent.futures.ProcessPoolExecutor() as executor:\n",
    "        # Submit the tasks to the executor\n",
    "        futures = {executor.submit(process_param, param, p_dict): param for param in p_dict}\n",
    "\n",
    "        # Collect the results as they become available\n",
    "        for future in concurrent.futures.as_completed(futures):\n",
    "            param = futures[future]\n",
    "            try:\n",
    "                result_param, result_value = future.result()\n",
    "                gammas[result_param] = result_value\n",
    "                plt.plot(basis, result_value, label=result_param)\n",
    "            except Exception as exc:\n",
    "                print('%r generated an exception: %s' % (param, exc))\n",
    "            \n",
    "    # Plot current value\n",
    "    plt.plot(0, current_value , 'ro')\n",
    "    plt.annotate(round(current_value, 10), \n",
    "             (0,current_value),\n",
    "             textcoords=\"offset points\",  # how to position the text\n",
    "             xytext=(-10,10),  # distance from text to points (x,y)\n",
    "             ha='center',  # horizontal alignment can be left, right or center \n",
    "                )\n",
    "\n",
    "    plt.xlabel('Parameter')\n",
    "    plt.ylabel('Time dilation factor (gamma)')\n",
    "    plt.legend()\n",
    "#     plt.ylim(current_value*(1 - 10**-zoom),current_value*(1 + 10**-zoom))\n",
    " #   plt.yscale('log')\n",
    "    plt.ylim(0,10**zoom)\n",
    "    plt.grid(True)\n",
    "    plt.show()"
   ]
  },
  {
   "cell_type": "code",
   "execution_count": 176,
   "id": "117511eb",
   "metadata": {},
   "outputs": [
    {
     "data": {
      "application/vnd.jupyter.widget-view+json": {
       "model_id": "a314d5bb4f124004a1cf646cde2394db",
       "version_major": 2,
       "version_minor": 0
      },
      "text/plain": [
       "interactive(children=(FloatSlider(value=0.0, description='g', max=2.0, min=-2.0, step=0.01), FloatSlider(value…"
      ]
     },
     "execution_count": 176,
     "metadata": {},
     "output_type": "execute_result"
    }
   ],
   "source": [
    "# Create interactive plot using exponential parameters\n",
    "interactive_plot = interactive(p_plot, \n",
    "                               g=(-2, 2, 0.01), \n",
    "                               r=(-2, 2, 0.01), \n",
    "                               c=(-6, 6, 0.01), \n",
    "                               L=(-3, 3, 0.01), \n",
    "                               zoom=(1, 5, 1))\n",
    "output = interactive_plot.children[-1]\n",
    "output.layout.height = '800px'\n",
    "interactive_plot"
   ]
  },
  {
   "cell_type": "code",
   "execution_count": null,
   "id": "b8ec11e3",
   "metadata": {},
   "outputs": [],
   "source": []
  }
 ],
 "metadata": {
  "kernelspec": {
   "display_name": "Python 3 (ipykernel)",
   "language": "python",
   "name": "python3"
  },
  "language_info": {
   "codemirror_mode": {
    "name": "ipython",
    "version": 3
   },
   "file_extension": ".py",
   "mimetype": "text/x-python",
   "name": "python",
   "nbconvert_exporter": "python",
   "pygments_lexer": "ipython3",
   "version": "3.9.15"
  }
 },
 "nbformat": 4,
 "nbformat_minor": 5
}
